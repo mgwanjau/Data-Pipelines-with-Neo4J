{
  "cells": [
    {
      "cell_type": "code",
      "execution_count": null,
      "metadata": {
        "id": "Jw70wzLkP_X3"
      },
      "outputs": [],
      "source": [
        "import pandas as pd"
      ]
    },
    {
      "cell_type": "code",
      "execution_count": null,
      "metadata": {
        "colab": {
          "base_uri": "https://localhost:8080/"
        },
        "id": "-bDyGj_QSCp7",
        "outputId": "eeb3a41d-c721-4407-ceea-e4ac2c4eae10"
      },
      "outputs": [
        {
          "name": "stdout",
          "output_type": "stream",
          "text": [
            "Looking in indexes: https://pypi.org/simple, https://us-python.pkg.dev/colab-wheels/public/simple/\n",
            "Collecting neo4j\n",
            "  Downloading neo4j-5.8.0.tar.gz (187 kB)\n",
            "\u001b[2K     \u001b[90m━━━━━━━━━━━━━━━━━━━━━━━━━━━━━━━━━━━━━━\u001b[0m \u001b[32m187.5/187.5 kB\u001b[0m \u001b[31m13.0 MB/s\u001b[0m eta \u001b[36m0:00:00\u001b[0m\n",
            "\u001b[?25h  Installing build dependencies ... \u001b[?25l\u001b[?25hdone\n",
            "  Getting requirements to build wheel ... \u001b[?25l\u001b[?25hdone\n",
            "  Installing backend dependencies ... \u001b[?25l\u001b[?25hdone\n",
            "  Preparing metadata (pyproject.toml) ... \u001b[?25l\u001b[?25hdone\n",
            "Requirement already satisfied: pytz in /usr/local/lib/python3.10/dist-packages (from neo4j) (2022.7.1)\n",
            "Building wheels for collected packages: neo4j\n",
            "  Building wheel for neo4j (pyproject.toml) ... \u001b[?25l\u001b[?25hdone\n",
            "  Created wheel for neo4j: filename=neo4j-5.8.0-py3-none-any.whl size=258407 sha256=92996d7067138475e62bc1e83d88fd67f2693e67053b72af4d788e5b38e99f96\n",
            "  Stored in directory: /root/.cache/pip/wheels/6b/b5/da/73f634944e04e625954d101cb175ac1aeb9b29751a37d3383e\n",
            "Successfully built neo4j\n",
            "Installing collected packages: neo4j\n",
            "Successfully installed neo4j-5.8.0\n"
          ]
        }
      ],
      "source": [
        "!pip install neo4j"
      ]
    },
    {
      "cell_type": "code",
      "execution_count": null,
      "metadata": {
        "colab": {
          "base_uri": "https://localhost:8080/"
        },
        "id": "zRNpqXLSTJgo",
        "outputId": "5ed07631-9db9-470d-a89c-23bcdb8d5df0"
      },
      "outputs": [
        {
          "name": "stdout",
          "output_type": "stream",
          "text": [
            "Looking in indexes: https://pypi.org/simple, https://us-python.pkg.dev/colab-wheels/public/simple/\n",
            "Requirement already satisfied: psycopg2 in /usr/local/lib/python3.10/dist-packages (2.9.6)\n"
          ]
        }
      ],
      "source": [
        "pip install psycopg2"
      ]
    },
    {
      "cell_type": "code",
      "execution_count": null,
      "metadata": {
        "id": "71rqApr-TNnY"
      },
      "outputs": [],
      "source": [
        "import psycopg2\n",
        "from neo4j import GraphDatabase\n"
      ]
    },
    {
      "cell_type": "code",
      "execution_count": null,
      "metadata": {
        "id": "7H-oEQy2SRwS"
      },
      "outputs": [],
      "source": [
        "# Define Neo4j connection details\n",
        "uri = \"neo4j+s://186f4da2.databases.neo4j.io\"\n",
        "username = \"neo4j\"\n",
        "password = \"ccpSYA1hMK7zRy3itEMFPjcsv0yL3GyBAEU8_araTHU\"\n",
        "\n",
        "driver = GraphDatabase.driver(\"neo4j+s://186f4da2.databases.neo4j.io\", auth=(\"neo4j\", \"ccpSYA1hMK7zRy3itEMFPjcsv0yL3GyBAEU8_araTHU\"))"
      ]
    },
    {
      "cell_type": "code",
      "execution_count": null,
      "metadata": {
        "colab": {
          "base_uri": "https://localhost:8080/"
        },
        "id": "x_MhEXxlKcPI",
        "outputId": "a972613f-796f-4cb4-8abf-2e8dc7b2518c"
      },
      "outputs": [
        {
          "name": "stdout",
          "output_type": "stream",
          "text": [
            "35.245.201.45"
          ]
        }
      ],
      "source": [
        "!curl ipecho.net/plain"
      ]
    },
    {
      "cell_type": "code",
      "execution_count": null,
      "metadata": {
        "id": "J7yPFr-jUW1U"
      },
      "outputs": [],
      "source": [
        "# Define Postgres connection details\n",
        "host = \"23.236.48.131\"\n",
        "database = \"postgress\"\n",
        "user = \"postgres\"\n",
        "password = \"X\\8`8~-Sovg^;m~4\""
      ]
    },
    {
      "cell_type": "code",
      "execution_count": null,
      "metadata": {
        "id": "VdTXqBQWR-4e"
      },
      "outputs": [],
      "source": [
        "## Define Neo4j query to populate data\n",
        "def create_customer(tx, customer_ID, subscription_ID, service_ID):\n",
        "    tx.run(\"MERGE (c:customer {customer_ID: $customer_ID, subscription_ID: $subscription_ID, service_ID: $service_ID})\",\n",
        "           customer_ID=customer_ID, subscription_ID=subscription_ID, service_ID=service_ID)\n",
        "\n",
        "with driver.session() as session:\n",
        "    # create some sample data\n",
        "    session.execute_write(create_customer, \"1\", \"CI001\", 25)\n",
        "    session.execute_write(create_customer, \"2\", \"CI002\", 30)\n",
        "    session.execute_write(create_customer, \"3\", \"CI003\", 28)\n",
        "    session.execute_write(create_customer, \"4\", \"CI004\", 27)\n",
        "    \n",
        "driver.close()"
      ]
    },
    {
      "cell_type": "code",
      "execution_count": null,
      "metadata": {
        "id": "mjg9T4QX97n3"
      },
      "outputs": [],
      "source": [
        "# Define Neo4j connection details\n",
        "uri = \"neo4j+s://186f4da2.databases.neo4j.io\"\n",
        "username = \"neo4j\"\n",
        "password = \"ccpSYA1hMK7zRy3itEMFPjcsv0yL3GyBAEU8_araTHU\"\n",
        "\n",
        "driver = GraphDatabase.driver(\"neo4j+s://186f4da2.databases.neo4j.io\", auth=(\"neo4j\", \"ccpSYA1hMK7zRy3itEMFPjcsv0yL3GyBAEU8_araTHU\"))"
      ]
    },
    {
      "cell_type": "code",
      "execution_count": null,
      "metadata": {
        "id": "GwcRlQw3ComP"
      },
      "outputs": [],
      "source": [
        "def extract_data(tx):\n",
        "  result = tx.run(\"MATCH (c:customer) WHERE c.customer_ID = '1' RETURN c.customer_ID AS customer_ID, c.subscription_ID AS subscription_ID\")\n",
        "  df = pd.DataFrame([dict(record) for record in result])\n",
        "\n",
        "driver.close()"
      ]
    },
    {
      "cell_type": "code",
      "execution_count": null,
      "metadata": {
        "colab": {
          "background_save": true
        },
        "id": "Gxc98a7tQx8g"
      },
      "outputs": [],
      "source": [
        "# Defining function to load data into Postgres\n",
        "def load_data(df):\n",
        "    # Connecting to Postgres\n",
        "    conn = psycopg2.connect(host=\"23.236.48.131\",database=\"postgress\", user=\"postgress\", password=\"X\\8`8~-Sovg^;m~4\")\n",
        "    # Creating the table if it doesn't exist\n",
        "with conn.cursor() as cur:\n",
        "    cur.execute(\"\"\"\n",
        "        CREATE TABLE IF NOT EXISTS telecom_data (\n",
        "            customer_id INTEGER,\n",
        "            subscription_id INTEGER,\n",
        "            service_id INTEGER\n",
        "        );\n",
        "    \"\"\")\n",
        "    conn.commit()\n",
        "\n",
        "# Step 5: Loading the Data\n",
        "with conn.cursor() as cur:\n",
        "    for index, row in data.iterrows():\n",
        "        cur.execute(\"\"\"\n",
        "            INSERT INTO telecom_data (customer_id, subscription_id, service_id)\n",
        "            VALUES (%s, %s, %s);\n",
        "        \"\"\", (row['customer_id'], row['subscription_id'], row['service_id']))\n",
        "    conn.commit()"
      ]
    },
    {
      "cell_type": "code",
      "source": [
        "def data_pipeline():\n",
        "    # Data pipeline function\n",
        "    create_customer(tx, customer_ID, subscription_ID, service_ID)\n",
        "    extract_data(tx)\n",
        "    load_data(df)\n",
        "\n",
        "if __name__ == '__main__':\n",
        "    # Run the data pipeline function\n",
        "    data_pipeline()"
      ],
      "metadata": {
        "id": "sTxQoWphxvwN"
      },
      "execution_count": null,
      "outputs": []
    }
  ],
  "metadata": {
    "colab": {
      "provenance": []
    },
    "kernelspec": {
      "display_name": "Python 3",
      "name": "python3"
    },
    "language_info": {
      "name": "python"
    }
  },
  "nbformat": 4,
  "nbformat_minor": 0
}